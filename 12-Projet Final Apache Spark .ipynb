{
 "cells": [
  {
   "cell_type": "markdown",
   "metadata": {},
   "source": [
    "# Projet Final Apache Spark"
   ]
  },
  {
   "cell_type": "markdown",
   "metadata": {},
   "source": [
    "**Nom Etudiant : Ba**  \n",
    "\n",
    "**Prenom Etudiant:Aminata Abdoulaye**  \n",
    "\n",
    "**Classe :M1 RESI**  \n"
   ]
  },
  {
   "cell_type": "markdown",
   "metadata": {},
   "source": [
    "## Description\n",
    "Ce projet consiste à utiliser Apache Spark pour faire l'analyse et le traitement des données de **[San Francisco Fire Department Calls ](https://data.sfgov.org/Public-Safety/Fire-Department-Calls-for-Service/nuek-vuh3)** afin de fournir quelques KPI (*Key Performance Indicator*). Le **SF Fire Dataset** comprend les réponses aux appels de toutes les unités d'incendie. Chaque enregistrement comprend le numéro d'appel, le numéro d'incident, l'adresse, l'identifiant de l'unité, le type d'appel et la disposition. Tous les intervalles de temps pertinents sont également inclus. Étant donné que ce Dataset est basé sur les réponses et que la plupart des appels impliquent plusieurs unités, ainsi il existe plusieurs enregistrements pour chaque numéro d'appel. Les adresses sont associées à un numéro de bloc, à une intersection ou à une boîte d'appel, et non à une adresse spécifique.\n",
    "\n",
    "**Plus de details sur la description des données cliquer sur ce [lien](https://data.sfgov.org/Public-Safety/Fire-Department-Calls-for-Service/nuek-vuh3)**"
   ]
  },
  {
   "cell_type": "markdown",
   "metadata": {},
   "source": [
    "## Travail à faire.\n",
    "L'objectif de ce projet est de comprendre le **SF Fire Dataset** afin de bien répondre aux questions en utilisant les codes Spark/Scala adéquates.\n",
    "\n",
    "- Créer un repos git (public) et partager le repos avec mon mail (limahin10@gmail.com)\n",
    "- Ecrire un code lisible et bien indenté \n",
    "- N'oublier pas de mettre en commentaire la justification de vos réponses sur les cellules Markdown. \n",
    "\n",
    "\n",
    "## Note:\n",
    "- Le projet est personnel, c'est-à-dire chaque notebook ne concerne qu'un seul étudiant. \n",
    "- Deadline : **Lundi 31 Janvier 2022  à 23h 59** (Aucune de dérogation ne sera acceptée)"
   ]
  },
  {
   "cell_type": "markdown",
   "metadata": {},
   "source": [
    "### Chargement des données"
   ]
  },
  {
   "cell_type": "markdown",
   "metadata": {},
   "source": [
    "Importation des packages Spark"
   ]
  },
  {
   "cell_type": "code",
   "execution_count": 1,
   "metadata": {},
   "outputs": [
    {
     "data": {
      "text/plain": [
       "Intitializing Scala interpreter ..."
      ]
     },
     "metadata": {},
     "output_type": "display_data"
    },
    {
     "data": {
      "text/plain": [
       "Spark Web UI available at http://192.168.43.210:4041\n",
       "SparkContext available as 'sc' (version = 3.0.1, master = local[*], app id = local-1643597059876)\n",
       "SparkSession available as 'spark'\n"
      ]
     },
     "metadata": {},
     "output_type": "display_data"
    },
    {
     "data": {
      "text/plain": [
       "import org.apache.spark.sql.types._\n",
       "import org.apache.spark.sql.functions._\n",
       "import spark.implicits._\n"
      ]
     },
     "execution_count": 1,
     "metadata": {},
     "output_type": "execute_result"
    }
   ],
   "source": [
    "import org.apache.spark.sql.types._ \n",
    "import org.apache.spark.sql.functions._ \n",
    "import spark.implicits._"
   ]
  },
  {
   "cell_type": "markdown",
   "metadata": {},
   "source": [
    "Nous allons jeter un coup d'oeil sur la structure des données avant de définir un schéma"
   ]
  },
  {
   "cell_type": "code",
   "execution_count": 2,
   "metadata": {},
   "outputs": [
    {
     "name": "stdout",
     "output_type": "stream",
     "text": [
      "CallNumber,UnitID,IncidentNumber,CallType,CallDate,WatchDate,CallFinalDisposition,AvailableDtTm,Address,City,Zipcode,Battalion,StationArea,Box,OriginalPriority,Priority,FinalPriority,ALSUnit,CallTypeGroup,NumAlarms,UnitType,UnitSequenceInCallDispatch,FirePreventionDistrict,SupervisorDistrict,Neighborhood,Location,RowID,Delay\r\n",
      "\n"
     ]
    }
   ],
   "source": [
    "!head -1 \"datasets/sf-fire/sf-fire-calls.csv\""
   ]
  },
  {
   "cell_type": "markdown",
   "metadata": {},
   "source": [
    "Vu que la taille de ces données est énormes, inferer le schema pour un très grande volumes de données s'avère un peu couteux. Nous allons ainsi définir un schema pour le Dataset."
   ]
  },
  {
   "cell_type": "code",
   "execution_count": 3,
   "metadata": {},
   "outputs": [
    {
     "data": {
      "text/plain": [
       "fireSchema: org.apache.spark.sql.types.StructType = StructType(StructField(CallNumber,IntegerType,true), StructField(UnitID,StringType,true), StructField(IncidentNumber,IntegerType,true), StructField(CallType,StringType,true), StructField(CallDate,StringType,true), StructField(WatchDate,StringType,true), StructField(CallFinalDisposition,StringType,true), StructField(AvailableDtTm,StringType,true), StructField(Address,StringType,true), StructField(City,StringType,true), StructField(Zipcode,IntegerType,true), StructField(Battalion,StringType,true), StructField(StationArea,StringType,true), StructField(Box,StringType,true), StructField(OriginalPriority,StringType,true), StructField(Priority,StringType,true), StructField(FinalPriority,IntegerType,true), StructField(ALSUnit,BooleanType,true)...\n"
      ]
     },
     "execution_count": 3,
     "metadata": {},
     "output_type": "execute_result"
    }
   ],
   "source": [
    "val fireSchema = StructType(Array(StructField(\"CallNumber\", IntegerType, true),\n",
    "  StructField(\"UnitID\", StringType, true),\n",
    "  StructField(\"IncidentNumber\", IntegerType, true),\n",
    "  StructField(\"CallType\", StringType, true),                  \n",
    "  StructField(\"CallDate\", StringType, true),      \n",
    "  StructField(\"WatchDate\", StringType, true),\n",
    "  StructField(\"CallFinalDisposition\", StringType, true),\n",
    "  StructField(\"AvailableDtTm\", StringType, true),\n",
    "  StructField(\"Address\", StringType, true),       \n",
    "  StructField(\"City\", StringType, true),       \n",
    "  StructField(\"Zipcode\", IntegerType, true),       \n",
    "  StructField(\"Battalion\", StringType, true),                 \n",
    "  StructField(\"StationArea\", StringType, true),       \n",
    "  StructField(\"Box\", StringType, true),       \n",
    "  StructField(\"OriginalPriority\", StringType, true),       \n",
    "  StructField(\"Priority\", StringType, true),       \n",
    "  StructField(\"FinalPriority\", IntegerType, true),       \n",
    "  StructField(\"ALSUnit\", BooleanType, true),       \n",
    "  StructField(\"CallTypeGroup\", StringType, true),\n",
    "  StructField(\"NumAlarms\", IntegerType, true),\n",
    "  StructField(\"UnitType\", StringType, true),\n",
    "  StructField(\"UnitSequenceInCallDispatch\", IntegerType, true),\n",
    "  StructField(\"FirePreventionDistrict\", StringType, true),\n",
    "  StructField(\"SupervisorDistrict\", StringType, true),\n",
    "  StructField(\"Neighborhood\", StringType, true),\n",
    "  StructField(\"Location\", StringType, true),\n",
    "  StructField(\"RowID\", StringType, true),\n",
    "  StructField(\"Delay\", FloatType, true)))"
   ]
  },
  {
   "cell_type": "code",
   "execution_count": 4,
   "metadata": {},
   "outputs": [
    {
     "data": {
      "text/plain": [
       "sfFireFile: String = datasets/sf-fire/sf-fire-calls.csv\n",
       "fireDF: org.apache.spark.sql.DataFrame = [CallNumber: int, UnitID: string ... 26 more fields]\n"
      ]
     },
     "execution_count": 4,
     "metadata": {},
     "output_type": "execute_result"
    }
   ],
   "source": [
    "val sfFireFile = \"datasets/sf-fire/sf-fire-calls.csv\"\n",
    "val fireDF = spark\n",
    "  .read\n",
    "  .schema(fireSchema)\n",
    "  .option(\"header\", \"true\")\n",
    "  .csv(sfFireFile)"
   ]
  },
  {
   "cell_type": "markdown",
   "metadata": {},
   "source": [
    "Nous allons mettre en cache le Dataframe"
   ]
  },
  {
   "cell_type": "code",
   "execution_count": 5,
   "metadata": {},
   "outputs": [
    {
     "data": {
      "text/plain": [
       "res0: fireDF.type = [CallNumber: int, UnitID: string ... 26 more fields]\n"
      ]
     },
     "execution_count": 5,
     "metadata": {},
     "output_type": "execute_result"
    }
   ],
   "source": [
    "fireDF.cache()"
   ]
  },
  {
   "cell_type": "code",
   "execution_count": 6,
   "metadata": {},
   "outputs": [
    {
     "data": {
      "text/plain": [
       "res1: Long = 175296\n"
      ]
     },
     "execution_count": 6,
     "metadata": {},
     "output_type": "execute_result"
    }
   ],
   "source": [
    "fireDF.count()"
   ]
  },
  {
   "cell_type": "code",
   "execution_count": 7,
   "metadata": {},
   "outputs": [
    {
     "name": "stdout",
     "output_type": "stream",
     "text": [
      "root\n",
      " |-- CallNumber: integer (nullable = true)\n",
      " |-- UnitID: string (nullable = true)\n",
      " |-- IncidentNumber: integer (nullable = true)\n",
      " |-- CallType: string (nullable = true)\n",
      " |-- CallDate: string (nullable = true)\n",
      " |-- WatchDate: string (nullable = true)\n",
      " |-- CallFinalDisposition: string (nullable = true)\n",
      " |-- AvailableDtTm: string (nullable = true)\n",
      " |-- Address: string (nullable = true)\n",
      " |-- City: string (nullable = true)\n",
      " |-- Zipcode: integer (nullable = true)\n",
      " |-- Battalion: string (nullable = true)\n",
      " |-- StationArea: string (nullable = true)\n",
      " |-- Box: string (nullable = true)\n",
      " |-- OriginalPriority: string (nullable = true)\n",
      " |-- Priority: string (nullable = true)\n",
      " |-- FinalPriority: integer (nullable = true)\n",
      " |-- ALSUnit: boolean (nullable = true)\n",
      " |-- CallTypeGroup: string (nullable = true)\n",
      " |-- NumAlarms: integer (nullable = true)\n",
      " |-- UnitType: string (nullable = true)\n",
      " |-- UnitSequenceInCallDispatch: integer (nullable = true)\n",
      " |-- FirePreventionDistrict: string (nullable = true)\n",
      " |-- SupervisorDistrict: string (nullable = true)\n",
      " |-- Neighborhood: string (nullable = true)\n",
      " |-- Location: string (nullable = true)\n",
      " |-- RowID: string (nullable = true)\n",
      " |-- Delay: float (nullable = true)\n",
      "\n"
     ]
    }
   ],
   "source": [
    "fireDF.printSchema()"
   ]
  },
  {
   "cell_type": "code",
   "execution_count": 8,
   "metadata": {},
   "outputs": [
    {
     "name": "stdout",
     "output_type": "stream",
     "text": [
      "+----------+------+--------------+----------------+----------+----------+--------------------+--------------------+--------------------+----+-------+---------+-----------+----+----------------+--------+-------------+-------+-------------+---------+--------+--------------------------+----------------------+------------------+--------------------+--------------------+-------------+---------+\n",
      "|CallNumber|UnitID|IncidentNumber|        CallType|  CallDate| WatchDate|CallFinalDisposition|       AvailableDtTm|             Address|City|Zipcode|Battalion|StationArea| Box|OriginalPriority|Priority|FinalPriority|ALSUnit|CallTypeGroup|NumAlarms|UnitType|UnitSequenceInCallDispatch|FirePreventionDistrict|SupervisorDistrict|        Neighborhood|            Location|        RowID|    Delay|\n",
      "+----------+------+--------------+----------------+----------+----------+--------------------+--------------------+--------------------+----+-------+---------+-----------+----+----------------+--------+-------------+-------+-------------+---------+--------+--------------------------+----------------------+------------------+--------------------+--------------------+-------------+---------+\n",
      "|  20110016|   T13|       2003235|  Structure Fire|01/11/2002|01/10/2002|               Other|01/11/2002 01:51:...|2000 Block of CAL...|  SF|  94109|      B04|         38|3362|               3|       3|            3|  false|         null|        1|   TRUCK|                         2|                     4|                 5|     Pacific Heights|(37.7895840679362...|020110016-T13|     2.95|\n",
      "|  20110022|   M17|       2003241|Medical Incident|01/11/2002|01/10/2002|               Other|01/11/2002 03:01:...|0 Block of SILVER...|  SF|  94124|      B10|         42|6495|               3|       3|            3|   true|         null|        1|   MEDIC|                         1|                    10|                10|Bayview Hunters P...|(37.7337623673897...|020110022-M17|      4.7|\n",
      "|  20110023|   M41|       2003242|Medical Incident|01/11/2002|01/10/2002|               Other|01/11/2002 02:39:...|MARKET ST/MCALLIS...|  SF|  94102|      B03|         01|1455|               3|       3|            3|   true|         null|        1|   MEDIC|                         2|                     3|                 6|          Tenderloin|(37.7811772186856...|020110023-M41|2.4333334|\n",
      "|  20110032|   E11|       2003250|    Vehicle Fire|01/11/2002|01/10/2002|               Other|01/11/2002 04:16:...|APPLETON AV/MISSI...|  SF|  94110|      B06|         32|5626|               3|       3|            3|  false|         null|        1|  ENGINE|                         1|                     6|                 9|      Bernal Heights|(37.7388432849018...|020110032-E11|      1.5|\n",
      "|  20110043|   B04|       2003259|          Alarms|01/11/2002|01/10/2002|               Other|01/11/2002 06:01:...|1400 Block of SUT...|  SF|  94109|      B04|         03|3223|               3|       3|            3|  false|         null|        1|   CHIEF|                         2|                     4|                 2|    Western Addition|(37.7872890372638...|020110043-B04|3.4833333|\n",
      "+----------+------+--------------+----------------+----------+----------+--------------------+--------------------+--------------------+----+-------+---------+-----------+----+----------------+--------+-------------+-------+-------------+---------+--------+--------------------------+----------------------+------------------+--------------------+--------------------+-------------+---------+\n",
      "only showing top 5 rows\n",
      "\n"
     ]
    }
   ],
   "source": [
    "fireDF.show(5)"
   ]
  },
  {
   "cell_type": "markdown",
   "metadata": {},
   "source": [
    "Filtrage des d'appels de type \"Medical Incident\""
   ]
  },
  {
   "cell_type": "code",
   "execution_count": 8,
   "metadata": {},
   "outputs": [
    {
     "name": "stdout",
     "output_type": "stream",
     "text": [
      "+--------------+----------------------+--------------+\n",
      "|IncidentNumber|AvailableDtTm         |CallType      |\n",
      "+--------------+----------------------+--------------+\n",
      "|2003235       |01/11/2002 01:51:44 AM|Structure Fire|\n",
      "|2003250       |01/11/2002 04:16:46 AM|Vehicle Fire  |\n",
      "|2003259       |01/11/2002 06:01:58 AM|Alarms        |\n",
      "|2003279       |01/11/2002 08:03:26 AM|Structure Fire|\n",
      "|2003301       |01/11/2002 09:46:44 AM|Alarms        |\n",
      "+--------------+----------------------+--------------+\n",
      "only showing top 5 rows\n",
      "\n"
     ]
    },
    {
     "data": {
      "text/plain": [
       "fewFireDF: org.apache.spark.sql.Dataset[org.apache.spark.sql.Row] = [IncidentNumber: int, AvailableDtTm: string ... 1 more field]\n"
      ]
     },
     "execution_count": 8,
     "metadata": {},
     "output_type": "execute_result"
    }
   ],
   "source": [
    "val fewFireDF = fireDF\n",
    "  .select(\"IncidentNumber\", \"AvailableDtTm\", \"CallType\") \n",
    "  .where($\"CallType\" =!= \"Medical Incident\")\n",
    "\n",
    "fewFireDF.show(5, false)"
   ]
  },
  {
   "cell_type": "markdown",
   "metadata": {},
   "source": [
    "### Question 1\n",
    "**Combien de types d'appels distincts ont été passés ?**  \n",
    "Pour être sûr, il ne faut pas compter les valeurs «nulles» dans la colonne."
   ]
  },
  {
   "cell_type": "code",
   "execution_count": 9,
   "metadata": {},
   "outputs": [
    {
     "data": {
      "text/plain": [
       "distinctCallType: org.apache.spark.sql.Dataset[org.apache.spark.sql.Row] = [CallType: string]\n",
       "res4: Long = 30\n"
      ]
     },
     "execution_count": 9,
     "metadata": {},
     "output_type": "execute_result"
    }
   ],
   "source": [
    "// Reponse 1\n",
    "val distinctCallType=fireDF\n",
    "   .select(\"CallType\")\n",
    "   .filter($\"CallType\".isNotNull)\n",
    "   .distinct()\n",
    "distinctCallType.count()"
   ]
  },
  {
   "cell_type": "markdown",
   "metadata": {},
   "source": [
    "j'ai utilisé filter() pour filtrer les valeurs non nulles et distinct() pour eliminer les doublons. Le nombre de types d'appels distincts qui ont été passés est 30"
   ]
  },
  {
   "cell_type": "markdown",
   "metadata": {},
   "source": [
    "### Question 2"
   ]
  },
  {
   "cell_type": "markdown",
   "metadata": {},
   "source": [
    "**Quels types d'appels différents ont été passés au service d'incendie?**"
   ]
  },
  {
   "cell_type": "code",
   "execution_count": 10,
   "metadata": {},
   "outputs": [
    {
     "name": "stdout",
     "output_type": "stream",
     "text": [
      "+--------------------------------------------+\n",
      "|CallType                                    |\n",
      "+--------------------------------------------+\n",
      "|Elevator / Escalator Rescue                 |\n",
      "|Marine Fire                                 |\n",
      "|Aircraft Emergency                          |\n",
      "|Confined Space / Structure Collapse         |\n",
      "|Administrative                              |\n",
      "|Alarms                                      |\n",
      "|Odor (Strange / Unknown)                    |\n",
      "|Citizen Assist / Service Call               |\n",
      "|HazMat                                      |\n",
      "|Watercraft in Distress                      |\n",
      "|Explosion                                   |\n",
      "|Oil Spill                                   |\n",
      "|Vehicle Fire                                |\n",
      "|Suspicious Package                          |\n",
      "|Extrication / Entrapped (Machinery, Vehicle)|\n",
      "|Other                                       |\n",
      "|Outside Fire                                |\n",
      "|Traffic Collision                           |\n",
      "|Assist Police                               |\n",
      "|Gas Leak (Natural and LP Gases)             |\n",
      "|Water Rescue                                |\n",
      "|Electrical Hazard                           |\n",
      "|High Angle Rescue                           |\n",
      "|Structure Fire                              |\n",
      "|Industrial Accidents                        |\n",
      "|Medical Incident                            |\n",
      "|Mutual Aid / Assist Outside Agency          |\n",
      "|Fuel Spill                                  |\n",
      "|Smoke Investigation (Outside)               |\n",
      "|Train / Rail Incident                       |\n",
      "+--------------------------------------------+\n",
      "\n"
     ]
    }
   ],
   "source": [
    "// Reponse 2\n",
    "fireDF\n",
    "   .select(\"CallType\")\n",
    "   .where($\"CallType\".isNotNull)\n",
    "   .distinct()\n",
    "   .show(30,false)"
   ]
  },
  {
   "cell_type": "markdown",
   "metadata": {},
   "source": [
    "ce code permet d'afficher Les types distincts de la colonne \"CallType\" j'ai specifié 30 dans la methode show(30, false) pour pouvoir afficher tous les 30 types d'appels sans restriction"
   ]
  },
  {
   "cell_type": "markdown",
   "metadata": {},
   "source": [
    "### Question 3\n",
    "\n",
    "**Trouver toutes les réponses ou les délais sont supérieurs à 5 minutes?**\n",
    "\n",
    "*Indication\n",
    "1. Renommer la colonne Delay -> ReponseDelayedinMins\n",
    "2. Retourner un nouveau DataFrame\n",
    "3. Afficher tous les appels où le temps de réponse à un site d'incendie a eu lieu après un retard de plus de 5 minutes"
   ]
  },
  {
   "cell_type": "code",
   "execution_count": 11,
   "metadata": {},
   "outputs": [
    {
     "name": "stdout",
     "output_type": "stream",
     "text": [
      "+---------------------+\n",
      "|ResponseDelayedinMins|\n",
      "+---------------------+\n",
      "|5.35                 |\n",
      "|6.25                 |\n",
      "|5.2                  |\n",
      "|5.6                  |\n",
      "|7.25                 |\n",
      "|11.916667            |\n",
      "|5.116667             |\n",
      "|8.633333             |\n",
      "|95.28333             |\n",
      "|5.45                 |\n",
      "+---------------------+\n",
      "only showing top 10 rows\n",
      "\n"
     ]
    },
    {
     "data": {
      "text/plain": [
       "newFireDF: org.apache.spark.sql.DataFrame = [CallNumber: int, UnitID: string ... 26 more fields]\n"
      ]
     },
     "execution_count": 11,
     "metadata": {},
     "output_type": "execute_result"
    }
   ],
   "source": [
    "// Reponse 3\n",
    "val newFireDF = fireDF.withColumnRenamed(\"Delay\", \"ResponseDelayedinMins\")\n",
    "newFireDF\n",
    ".select(\"ResponseDelayedinMins\")\n",
    ".where($\"ResponseDelayedinMins\" > 5)\n",
    ".show(10, false)"
   ]
  },
  {
   "cell_type": "markdown",
   "metadata": {},
   "source": [
    "### Transformations des dates  \n",
    "Maintenant nous allons d'abord:  \n",
    "1. Transformer les dates de type String en Spark Timestamp afin que nous puissions effectuer des requêtes basées sur la date plus tard    \n",
    "2. Retourner le Dataframe transformée  \n",
    "3. Mettre en cache le nouveau DataFrame  "
   ]
  },
  {
   "cell_type": "code",
   "execution_count": 12,
   "metadata": {},
   "outputs": [
    {
     "data": {
      "text/plain": [
       "fireTSDF: org.apache.spark.sql.DataFrame = [CallNumber: int, UnitID: string ... 26 more fields]\n",
       "res7: fireTSDF.type = [CallNumber: int, UnitID: string ... 26 more fields]\n"
      ]
     },
     "execution_count": 12,
     "metadata": {},
     "output_type": "execute_result"
    }
   ],
   "source": [
    "val fireTSDF = newFireDF\n",
    "  .withColumn(\"IncidentDate\", to_timestamp(col(\"CallDate\"), \"MM/dd/yyyy\")).drop(\"CallDate\") \n",
    "  .withColumn(\"OnWatchDate\", to_timestamp(col(\"WatchDate\"), \"MM/dd/yyyy\")).drop(\"WatchDate\") \n",
    "  .withColumn(\"AvailableDtTS\", to_timestamp(col(\"AvailableDtTm\"), \"MM/dd/yyyy hh:mm:ss a\")).drop(\"AvailableDtTm\")\n",
    "\n",
    "fireTSDF.cache()"
   ]
  },
  {
   "cell_type": "markdown",
   "metadata": {},
   "source": [
    "### Question 4\n",
    "**Quels sont les types d'appels les plus courants?**"
   ]
  },
  {
   "cell_type": "markdown",
   "metadata": {},
   "source": [
    "1. On recupere le nombre de type d'appel, pour chaque type d'appel;\n",
    "2. On fait la statistique de ces nombres d'appels  avec la methode describe;\n",
    "3. On recupre les types d'appels superieure a la moyenne."
   ]
  },
  {
   "cell_type": "code",
   "execution_count": 13,
   "metadata": {},
   "outputs": [
    {
     "name": "stdout",
     "output_type": "stream",
     "text": [
      "+--------------------------------------------+------+\n",
      "|CallType                                    |count |\n",
      "+--------------------------------------------+------+\n",
      "|Administrative                              |3     |\n",
      "|Mutual Aid / Assist Outside Agency          |9     |\n",
      "|Confined Space / Structure Collapse         |13    |\n",
      "|Marine Fire                                 |14    |\n",
      "|Suspicious Package                          |15    |\n",
      "|Oil Spill                                   |21    |\n",
      "|Watercraft in Distress                      |28    |\n",
      "|Extrication / Entrapped (Machinery, Vehicle)|28    |\n",
      "|High Angle Rescue                           |32    |\n",
      "|Assist Police                               |35    |\n",
      "|Aircraft Emergency                          |36    |\n",
      "|Train / Rail Incident                       |57    |\n",
      "|Explosion                                   |89    |\n",
      "|Industrial Accidents                        |94    |\n",
      "|HazMat                                      |124   |\n",
      "|Fuel Spill                                  |193   |\n",
      "|Smoke Investigation (Outside)               |391   |\n",
      "|Elevator / Escalator Rescue                 |453   |\n",
      "|Electrical Hazard                           |482   |\n",
      "|Odor (Strange / Unknown)                    |490   |\n",
      "|Water Rescue                                |755   |\n",
      "|Gas Leak (Natural and LP Gases)             |764   |\n",
      "|Vehicle Fire                                |854   |\n",
      "|Outside Fire                                |2094  |\n",
      "|Other                                       |2166  |\n",
      "|Citizen Assist / Service Call               |2524  |\n",
      "|Traffic Collision                           |7013  |\n",
      "|Alarms                                      |19406 |\n",
      "|Structure Fire                              |23319 |\n",
      "|Medical Incident                            |113794|\n",
      "+--------------------------------------------+------+\n",
      "\n"
     ]
    },
    {
     "data": {
      "text/plain": [
       "CountCalls: org.apache.spark.sql.DataFrame = [CallType: string, count: bigint]\n"
      ]
     },
     "execution_count": 13,
     "metadata": {},
     "output_type": "execute_result"
    }
   ],
   "source": [
    "//Reponse 4\n",
    "//je recupere le nombre d'appel, pour chaque type d'appel\n",
    "val CountCalls =  fireTSDF\n",
    ".groupBy(\"CallType\")\n",
    ".count()\n",
    "CountCalls.orderBy(\"count\").show(30, false)"
   ]
  },
  {
   "cell_type": "code",
   "execution_count": 14,
   "metadata": {},
   "outputs": [
    {
     "name": "stdout",
     "output_type": "stream",
     "text": [
      "+-------+--------------------+------------------+\n",
      "|summary|            CallType|             count|\n",
      "+-------+--------------------+------------------+\n",
      "|  count|                  30|                30|\n",
      "|   mean|                null|            5843.2|\n",
      "| stddev|                null|21101.213397697593|\n",
      "|    min|      Administrative|                 3|\n",
      "|    max|Watercraft in Dis...|            113794|\n",
      "+-------+--------------------+------------------+\n",
      "\n"
     ]
    }
   ],
   "source": [
    "//ensuite je fais la statistique de ces nombres d'appels  en utilisant la methode describe\n",
    "CountCalls\n",
    ".describe()\n",
    ".show()"
   ]
  },
  {
   "cell_type": "code",
   "execution_count": 15,
   "metadata": {},
   "outputs": [
    {
     "name": "stdout",
     "output_type": "stream",
     "text": [
      "+--------------------------------------------+------+--------------+\n",
      "|CallType                                    |count |CommonCallType|\n",
      "+--------------------------------------------+------+--------------+\n",
      "|Elevator / Escalator Rescue                 |453   |false         |\n",
      "|Marine Fire                                 |14    |false         |\n",
      "|Aircraft Emergency                          |36    |false         |\n",
      "|Confined Space / Structure Collapse         |13    |false         |\n",
      "|Administrative                              |3     |false         |\n",
      "|Alarms                                      |19406 |true          |\n",
      "|Odor (Strange / Unknown)                    |490   |false         |\n",
      "|Citizen Assist / Service Call               |2524  |false         |\n",
      "|HazMat                                      |124   |false         |\n",
      "|Watercraft in Distress                      |28    |false         |\n",
      "|Explosion                                   |89    |false         |\n",
      "|Oil Spill                                   |21    |false         |\n",
      "|Vehicle Fire                                |854   |false         |\n",
      "|Suspicious Package                          |15    |false         |\n",
      "|Extrication / Entrapped (Machinery, Vehicle)|28    |false         |\n",
      "|Other                                       |2166  |false         |\n",
      "|Outside Fire                                |2094  |false         |\n",
      "|Traffic Collision                           |7013  |true          |\n",
      "|Assist Police                               |35    |false         |\n",
      "|Gas Leak (Natural and LP Gases)             |764   |false         |\n",
      "|Water Rescue                                |755   |false         |\n",
      "|Electrical Hazard                           |482   |false         |\n",
      "|High Angle Rescue                           |32    |false         |\n",
      "|Structure Fire                              |23319 |true          |\n",
      "|Industrial Accidents                        |94    |false         |\n",
      "|Medical Incident                            |113794|true          |\n",
      "|Mutual Aid / Assist Outside Agency          |9     |false         |\n",
      "|Fuel Spill                                  |193   |false         |\n",
      "|Smoke Investigation (Outside)               |391   |false         |\n",
      "|Train / Rail Incident                       |57    |false         |\n",
      "+--------------------------------------------+------+--------------+\n",
      "\n"
     ]
    }
   ],
   "source": [
    "// Enfin,On recupre les types d'appels superieure a la moyenne \n",
    "CountCalls\n",
    "  .withColumn(\"CommonCallType\", col(\"count\").gt(5843))\n",
    "  .show(30,false)"
   ]
  },
  {
   "cell_type": "markdown",
   "metadata": {},
   "source": [
    "En conclusion les CallType, les plus courants sont ceux superieure a la moyenne donc on a :\n",
    "- Traffic Collision, \n",
    "- Alarms, \n",
    "- Structure Fire, \n",
    "- Medical Incident"
   ]
  },
  {
   "cell_type": "markdown",
   "metadata": {},
   "source": [
    "### Question 5-a\n",
    "**Quels sont boites postaux rencontrés dans les appels les plus courants?**"
   ]
  },
  {
   "cell_type": "markdown",
   "metadata": {},
   "source": [
    " On  recupere les boites postaux les plus courants  en applicant un filtre sur les types d'appels les plus courants."
   ]
  },
  {
   "cell_type": "code",
   "execution_count": 16,
   "metadata": {},
   "outputs": [
    {
     "name": "stdout",
     "output_type": "stream",
     "text": [
      "+-------+\n",
      "|Zipcode|\n",
      "+-------+\n",
      "|  94109|\n",
      "|  94115|\n",
      "|  94112|\n",
      "|  94127|\n",
      "|  94108|\n",
      "|  94121|\n",
      "|  94105|\n",
      "|   null|\n",
      "|  94131|\n",
      "|  94116|\n",
      "|  94134|\n",
      "|  94124|\n",
      "|  94102|\n",
      "|  94114|\n",
      "|  94107|\n",
      "|  94111|\n",
      "|  94103|\n",
      "|  94117|\n",
      "|  94122|\n",
      "|  94110|\n",
      "+-------+\n",
      "only showing top 20 rows\n",
      "\n"
     ]
    }
   ],
   "source": [
    "//Reponse 5-a\n",
    "fireTSDF\n",
    "    .filter($\"CallType\" === \"Medical Incident\" || $\"CallType\" === \"Structure Fire\" || $\"CallType\" ===  \"Alarms\" || $\"CallType\" === \"Traffic Collision\")\n",
    "    .select(\"Zipcode\")\n",
    "    .distinct()\n",
    "    .show()"
   ]
  },
  {
   "cell_type": "markdown",
   "metadata": {},
   "source": [
    "### Question 5-b\n",
    "**Quels sont les quartiers de San Francisco dont les codes postaux sont 94102 et 94103?**"
   ]
  },
  {
   "cell_type": "markdown",
   "metadata": {},
   "source": [
    "on recupere les quartiers en faisant un filtre avec ces deux Zipcode"
   ]
  },
  {
   "cell_type": "code",
   "execution_count": 18,
   "metadata": {},
   "outputs": [
    {
     "name": "stdout",
     "output_type": "stream",
     "text": [
      "+--------------------+\n",
      "|        Neighborhood|\n",
      "+--------------------+\n",
      "|    Western Addition|\n",
      "|         Mission Bay|\n",
      "|        Hayes Valley|\n",
      "|Financial Distric...|\n",
      "|            Nob Hill|\n",
      "|             Mission|\n",
      "|          Tenderloin|\n",
      "|        Potrero Hill|\n",
      "| Castro/Upper Market|\n",
      "|     South of Market|\n",
      "+--------------------+\n",
      "\n"
     ]
    }
   ],
   "source": [
    "//Reponse 5-b\n",
    "fireTSDF \n",
    "   .select(\"Neighborhood\")\n",
    "   .where($\"Zipcode\" === 94102 || $\"Zipcode\" === 94103)\n",
    "   .distinct()\n",
    "   .show()"
   ]
  },
  {
   "cell_type": "markdown",
   "metadata": {},
   "source": [
    "### Question 6\n",
    "**Determiner le nombre total d'appels, ainsi que la moyenne, le minimum et le maximum du temps de réponse des appels?**"
   ]
  },
  {
   "cell_type": "markdown",
   "metadata": {},
   "source": [
    "- on fais la statistique des temps de réponse des appels en utilisant la methode describe\n",
    "- Comme que chaque appels a un temps de reponse donc le nombre total des appels c'est ègale aunombre total des temps de reponse"
   ]
  },
  {
   "cell_type": "code",
   "execution_count": 19,
   "metadata": {},
   "outputs": [
    {
     "name": "stdout",
     "output_type": "stream",
     "text": [
      "+-------+---------------------+\n",
      "|summary|ResponseDelayedinMins|\n",
      "+-------+---------------------+\n",
      "|  count|               175296|\n",
      "|   mean|    3.892364154521585|\n",
      "| stddev|    9.378286226254257|\n",
      "|    min|          0.016666668|\n",
      "|    max|              1844.55|\n",
      "+-------+---------------------+\n",
      "\n"
     ]
    }
   ],
   "source": [
    "fireTSDF\n",
    ".select(\"ResponseDelayedinMins\")\n",
    ".describe()\n",
    ".show()"
   ]
  },
  {
   "cell_type": "markdown",
   "metadata": {},
   "source": [
    "- nombre total d'appels = 175296 appels\n",
    "- la moyenne des temps de reponses = 3.892\n",
    "- Le minimum des temps de reponses = 0.016\n",
    "- Le maximum des temps de reponses = 1844.55"
   ]
  },
  {
   "cell_type": "markdown",
   "metadata": {},
   "source": [
    "### Question 7-a\n",
    "**Combien d'années distinctes trouve t-on dans ce Dataset?**  \n",
    "Dans ce dataset nous avons des données comprises entre 2000-2018. Vous pouvez utilisez la fonction Spark `year()` pour les dates en Timestamp"
   ]
  },
  {
   "cell_type": "code",
   "execution_count": 21,
   "metadata": {},
   "outputs": [
    {
     "data": {
      "text/plain": [
       "res16: Long = 19\n"
      ]
     },
     "execution_count": 21,
     "metadata": {},
     "output_type": "execute_result"
    }
   ],
   "source": [
    "//Reponse 7-a\n",
    "fireTSDF\n",
    "  .select(year(col(\"IncidentDate\")))\n",
    "  .distinct()\n",
    "  .count()"
   ]
  },
  {
   "cell_type": "markdown",
   "metadata": {},
   "source": [
    "j'ai appliqué la fonction year() a la colonne IncidentDate\n",
    "Dans ce dataset nous avons \"19 années distinctes\"`"
   ]
  },
  {
   "cell_type": "markdown",
   "metadata": {},
   "source": [
    "### Question 7-b\n",
    "**Quelle semaine de l'année 2018 a eu le plus d'appels d'incendie?**"
   ]
  },
  {
   "cell_type": "markdown",
   "metadata": {},
   "source": [
    "On utilise la methode weekofyear() qui permet d'extraire le numero de semaine d'une année donnée  "
   ]
  },
  {
   "cell_type": "code",
   "execution_count": 39,
   "metadata": {},
   "outputs": [
    {
     "name": "stdout",
     "output_type": "stream",
     "text": [
      "+------------------------+-----+\n",
      "|weekofyear(IncidentDate)|count|\n",
      "+------------------------+-----+\n",
      "|                      22|  259|\n",
      "|                      40|  255|\n",
      "|                      43|  250|\n",
      "|                      25|  249|\n",
      "|                       1|  246|\n",
      "|                      44|  244|\n",
      "|                      32|  243|\n",
      "|                      13|  243|\n",
      "|                      11|  240|\n",
      "|                       5|  236|\n",
      "|                      18|  236|\n",
      "|                      23|  235|\n",
      "|                       2|  234|\n",
      "|                      31|  234|\n",
      "|                      42|  234|\n",
      "|                      19|  233|\n",
      "|                      10|  232|\n",
      "|                       8|  232|\n",
      "|                      34|  232|\n",
      "|                      21|  231|\n",
      "+------------------------+-----+\n",
      "only showing top 20 rows\n",
      "\n"
     ]
    }
   ],
   "source": [
    "//Reponse 7-b\n",
    "fireTSDF\n",
    ".filter(year(col(\"IncidentDate\")) === 2018)\n",
    ".groupBy(weekofyear($\"IncidentDate\"))\n",
    ".count()\n",
    ".orderBy(desc(\"count\"))\n",
    ".show()"
   ]
  },
  {
   "cell_type": "markdown",
   "metadata": {},
   "source": [
    "- La 22 ème semaine  de l'anne 2018  a connu plus d'appel d'incendie : 259"
   ]
  },
  {
   "cell_type": "markdown",
   "metadata": {},
   "source": [
    "### Question 8\n",
    "**Quels sont les quartiers de San Francisco qui ont connu le pire temps de réponse en 2018?**"
   ]
  },
  {
   "cell_type": "markdown",
   "metadata": {},
   "source": [
    "1. on cherche d'abord les quartier qui un connu des incendies au cours de l'annee 2018\n",
    "2. Onfait un filtre sur des temps de reponse superieur à la moyenne pour pouvoir determiner  les quartiers qui ont connu les pires temps de reponse"
   ]
  },
  {
   "cell_type": "code",
   "execution_count": 101,
   "metadata": {},
   "outputs": [
    {
     "name": "stdout",
     "output_type": "stream",
     "text": [
      "+------------------------------+---------------------+-------------------+\n",
      "|Neighborhood                  |ResponseDelayedinMins|IncidentDate       |\n",
      "+------------------------------+---------------------+-------------------+\n",
      "|Presidio Heights              |2.8833334            |2018-01-19 00:00:00|\n",
      "|Mission Bay                   |6.3333335            |2018-01-19 00:00:00|\n",
      "|Chinatown                     |2.65                 |2018-01-19 00:00:00|\n",
      "|Financial District/South Beach|3.5333333            |2018-01-19 00:00:00|\n",
      "|Tenderloin                    |1.1                  |2018-01-19 00:00:00|\n",
      "|Bayview Hunters Point         |4.05                 |2018-01-19 00:00:00|\n",
      "|Inner Richmond                |2.5666666            |2018-01-19 00:00:00|\n",
      "|Inner Sunset                  |1.4                  |2018-01-19 00:00:00|\n",
      "|Sunset/Parkside               |2.6666667            |2018-01-19 00:00:00|\n",
      "|South of Market               |1.7666667            |2018-01-19 00:00:00|\n",
      "|Golden Gate Park              |1.6833333            |2018-01-19 00:00:00|\n",
      "|Bernal Heights                |3.65                 |2018-01-19 00:00:00|\n",
      "|Tenderloin                    |4.2                  |2018-01-19 00:00:00|\n",
      "|Mission Bay                   |6.3333335            |2018-01-19 00:00:00|\n",
      "|Mission Bay                   |6.6                  |2018-01-19 00:00:00|\n",
      "|Outer Richmond                |3.4833333            |2018-01-19 00:00:00|\n",
      "|Excelsior                     |0.8333333            |2018-01-19 00:00:00|\n",
      "|North Beach                   |2.55                 |2018-01-19 00:00:00|\n",
      "|Western Addition              |2.1666667            |2018-01-19 00:00:00|\n",
      "|Hayes Valley                  |3.1333334            |2018-01-19 00:00:00|\n",
      "|South of Market               |4.4                  |2018-01-19 00:00:00|\n",
      "|Bayview Hunters Point         |4.55                 |2018-01-19 00:00:00|\n",
      "|South of Market               |2.4333334            |2018-01-19 00:00:00|\n",
      "|Noe Valley                    |2.55                 |2018-01-19 00:00:00|\n",
      "|Twin Peaks                    |1.5666667            |2018-01-19 00:00:00|\n",
      "|Financial District/South Beach|2.9833333            |2018-01-19 00:00:00|\n",
      "|South of Market               |1.1666666            |2018-01-19 00:00:00|\n",
      "|Mission Bay                   |5.0666666            |2018-01-19 00:00:00|\n",
      "|Financial District/South Beach|3.0166667            |2018-01-19 00:00:00|\n",
      "|Bayview Hunters Point         |5.5833335            |2018-01-19 00:00:00|\n",
      "|Hayes Valley                  |2.2333333            |2018-01-19 00:00:00|\n",
      "|North Beach                   |4.5                  |2018-01-19 00:00:00|\n",
      "|Outer Richmond                |3.6666667            |2018-01-19 00:00:00|\n",
      "|Tenderloin                    |4.2166667            |2018-10-31 00:00:00|\n",
      "|Outer Richmond                |2.4666667            |2018-10-31 00:00:00|\n",
      "|Mission Bay                   |2.2333333            |2018-10-31 00:00:00|\n",
      "|Treasure Island               |2.0333333            |2018-10-31 00:00:00|\n",
      "|Outer Mission                 |3.3666666            |2018-10-31 00:00:00|\n",
      "|Financial District/South Beach|3.5333333            |2018-10-31 00:00:00|\n",
      "|Financial District/South Beach|4.15                 |2018-10-31 00:00:00|\n",
      "|Russian Hill                  |2.1666667            |2018-10-31 00:00:00|\n",
      "|Golden Gate Park              |2.9                  |2018-10-31 00:00:00|\n",
      "|Presidio                      |4.883333             |2018-10-31 00:00:00|\n",
      "|Mission Bay                   |1.4166666            |2018-10-31 00:00:00|\n",
      "|Castro/Upper Market           |3.0                  |2018-10-31 00:00:00|\n",
      "|Bayview Hunters Point         |1.9666667            |2018-10-31 00:00:00|\n",
      "|Mission                       |3.2333333            |2018-10-31 00:00:00|\n",
      "|Nob Hill                      |3.0                  |2018-10-31 00:00:00|\n",
      "|Western Addition              |1.7166667            |2018-10-31 00:00:00|\n",
      "|Castro/Upper Market           |4.15                 |2018-10-31 00:00:00|\n",
      "|Castro/Upper Market           |2.7166667            |2018-10-31 00:00:00|\n",
      "|Pacific Heights               |1.7666667            |2018-10-31 00:00:00|\n",
      "|Russian Hill                  |2.1                  |2018-10-31 00:00:00|\n",
      "|North Beach                   |1.8333334            |2018-11-01 00:00:00|\n",
      "|South of Market               |3.7                  |2018-11-01 00:00:00|\n",
      "|Sunset/Parkside               |1.0666667            |2018-11-01 00:00:00|\n",
      "|Marina                        |5.0833335            |2018-11-01 00:00:00|\n",
      "|Outer Richmond                |5.25                 |2018-11-01 00:00:00|\n",
      "|South of Market               |4.8166666            |2018-11-01 00:00:00|\n",
      "|Portola                       |3.6166666            |2018-11-01 00:00:00|\n",
      "|Outer Richmond                |1.4833333            |2018-11-01 00:00:00|\n",
      "|Financial District/South Beach|3.0833333            |2018-11-01 00:00:00|\n",
      "|Mission                       |4.616667             |2018-11-01 00:00:00|\n",
      "|Western Addition              |1.75                 |2018-11-01 00:00:00|\n",
      "|Western Addition              |2.8333333            |2018-11-01 00:00:00|\n",
      "|Hayes Valley                  |0.56666666           |2018-10-31 00:00:00|\n",
      "|Outer Richmond                |2.4666667            |2018-10-31 00:00:00|\n",
      "|Castro/Upper Market           |1.2833333            |2018-10-31 00:00:00|\n",
      "|South of Market               |3.6833334            |2018-10-31 00:00:00|\n",
      "|South of Market               |3.3                  |2018-10-31 00:00:00|\n",
      "|South of Market               |0.38333333           |2018-10-31 00:00:00|\n",
      "|Presidio Heights              |4.0333333            |2018-10-31 00:00:00|\n",
      "|Tenderloin                    |2.75                 |2018-10-31 00:00:00|\n",
      "|West of Twin Peaks            |1.3833333            |2018-10-31 00:00:00|\n",
      "|Castro/Upper Market           |2.3833334            |2018-10-31 00:00:00|\n",
      "|Inner Sunset                  |2.95                 |2018-10-31 00:00:00|\n",
      "|Tenderloin                    |3.9166667            |2018-10-31 00:00:00|\n",
      "|Bayview Hunters Point         |5.7833333            |2018-01-19 00:00:00|\n",
      "|South of Market               |43.9                 |2018-01-19 00:00:00|\n",
      "|Tenderloin                    |6.7166667            |2018-01-19 00:00:00|\n",
      "|Twin Peaks                    |4.5333333            |2018-01-19 00:00:00|\n",
      "|Financial District/South Beach|1.8333334            |2018-01-19 00:00:00|\n",
      "|Sunset/Parkside               |2.1                  |2018-01-19 00:00:00|\n",
      "|Tenderloin                    |0.5833333            |2018-01-27 00:00:00|\n",
      "|Outer Mission                 |3.2333333            |2018-01-27 00:00:00|\n",
      "|Presidio Heights              |3.35                 |2018-01-22 00:00:00|\n",
      "|Mission                       |2.9833333            |2018-01-22 00:00:00|\n",
      "|Bayview Hunters Point         |5.3166666            |2018-01-22 00:00:00|\n",
      "|South of Market               |17.866667            |2018-01-22 00:00:00|\n",
      "|Chinatown                     |0.25                 |2018-01-22 00:00:00|\n",
      "|Chinatown                     |1.55                 |2018-01-22 00:00:00|\n",
      "|Inner Richmond                |4.4                  |2018-01-22 00:00:00|\n",
      "|Financial District/South Beach|2.2833333            |2018-01-22 00:00:00|\n",
      "|Nob Hill                      |1.8                  |2018-01-22 00:00:00|\n",
      "|Tenderloin                    |5.2166667            |2018-01-22 00:00:00|\n",
      "|Tenderloin                    |2.8833334            |2018-01-22 00:00:00|\n",
      "|Financial District/South Beach|0.46666667           |2018-01-22 00:00:00|\n",
      "|Financial District/South Beach|0.9                  |2018-01-22 00:00:00|\n",
      "|South of Market               |1.6                  |2018-01-22 00:00:00|\n",
      "|Marina                        |3.7333333            |2018-01-22 00:00:00|\n",
      "+------------------------------+---------------------+-------------------+\n",
      "only showing top 100 rows\n",
      "\n"
     ]
    },
    {
     "data": {
      "text/plain": [
       "worstDelay: org.apache.spark.sql.Dataset[org.apache.spark.sql.Row] = [Neighborhood: string, ResponseDelayedinMins: float ... 1 more field]\n"
      ]
     },
     "execution_count": 101,
     "metadata": {},
     "output_type": "execute_result"
    }
   ],
   "source": [
    "//Reponse 8\n",
    "val worstDelay=fireTSDF\n",
    ".select(\"Neighborhood\", \"ResponseDelayedinMins\", \"IncidentDate\")\n",
    ".filter((year($\"IncidentDate\") === 2018))\n",
    "worstDelay.show()\n"
   ]
  },
  {
   "cell_type": "code",
   "execution_count": 102,
   "metadata": {},
   "outputs": [
    {
     "name": "stdout",
     "output_type": "stream",
     "text": [
      "+------------------------------+\n",
      "|Neighborhood                  |\n",
      "+------------------------------+\n",
      "|Inner Sunset                  |\n",
      "|Haight Ashbury                |\n",
      "|Lincoln Park                  |\n",
      "|Japantown                     |\n",
      "|None                          |\n",
      "|North Beach                   |\n",
      "|Lone Mountain/USF             |\n",
      "|Western Addition              |\n",
      "|Bernal Heights                |\n",
      "|Mission Bay                   |\n",
      "|Hayes Valley                  |\n",
      "|Financial District/South Beach|\n",
      "|Lakeshore                     |\n",
      "|Bayview Hunters Point         |\n",
      "|Visitacion Valley             |\n",
      "|Inner Richmond                |\n",
      "|Nob Hill                      |\n",
      "|Oceanview/Merced/Ingleside    |\n",
      "|Outer Richmond                |\n",
      "|Treasure Island               |\n",
      "+------------------------------+\n",
      "only showing top 20 rows\n",
      "\n"
     ]
    }
   ],
   "source": [
    "worstDelay.select(\"Neighborhood\")\n",
    ".where($\"ResponseDelayedinMins\"> 3.892)\n",
    ".distinct()\n",
    ".show(20, false)"
   ]
  },
  {
   "cell_type": "markdown",
   "metadata": {},
   "source": [
    "### Question 9\n",
    "\n",
    "**Comment stocker les données du Dataframe sous format de fichiers Parquet?**"
   ]
  },
  {
   "cell_type": "code",
   "execution_count": 105,
   "metadata": {},
   "outputs": [],
   "source": [
    "//Reponse 9\n",
    "fireTSDF.write.parquet(\"MonProjet.parquet\")"
   ]
  },
  {
   "cell_type": "markdown",
   "metadata": {},
   "source": [
    "### Question 10\n",
    "**Comment relire les données stockée en format Parquet?**"
   ]
  },
  {
   "cell_type": "code",
   "execution_count": 106,
   "metadata": {},
   "outputs": [
    {
     "data": {
      "text/plain": [
       "parquetFileDF: org.apache.spark.sql.DataFrame = [CallNumber: int, UnitID: string ... 26 more fields]\n"
      ]
     },
     "execution_count": 106,
     "metadata": {},
     "output_type": "execute_result"
    }
   ],
   "source": [
    "//Reponse 10\n",
    "val parquetFileDF = spark.read.parquet(\"MonProjet.parquet\")"
   ]
  },
  {
   "cell_type": "markdown",
   "metadata": {},
   "source": [
    "## FIN"
   ]
  }
 ],
 "metadata": {
  "kernelspec": {
   "display_name": "spylon-kernel",
   "language": "scala",
   "name": "spylon-kernel"
  },
  "language_info": {
   "codemirror_mode": "text/x-scala",
   "file_extension": ".scala",
   "help_links": [
    {
     "text": "MetaKernel Magics",
     "url": "https://metakernel.readthedocs.io/en/latest/source/README.html"
    }
   ],
   "mimetype": "text/x-scala",
   "name": "scala",
   "pygments_lexer": "scala",
   "version": "0.4.1"
  }
 },
 "nbformat": 4,
 "nbformat_minor": 4
}
